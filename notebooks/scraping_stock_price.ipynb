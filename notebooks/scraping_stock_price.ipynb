{
 "cells": [
  {
   "cell_type": "code",
   "execution_count": 5,
   "metadata": {
    "pycharm": {
     "metadata": false,
     "name": "#%%\n"
    }
   },
   "outputs": [
    {
     "name": "stderr",
     "output_type": "stream",
     "text": [
      "/Users/shion/.local/share/virtualenvs/stock_project-KOCIdcQu/lib/python3.6/site-packages/ipykernel_launcher.py:15: DeprecationWarning: use setter for headless property instead of set_headless\n",
      "  from ipykernel import kernelapp as app\n"
     ]
    }
   ],
   "source": [
    "import requests\n",
    "import datetime\n",
    "from time import sleep\n",
    "import csv\n",
    "\n",
    "import numpy as np\n",
    "import pandas as pd\n",
    "from bs4 import BeautifulSoup\n",
    "from selenium import webdriver\n",
    "from selenium.webdriver.chrome.options import Options\n",
    "\n",
    "# ブラウザのオプションを格納する変数。\n",
    "options = Options()\n",
    "# Headlessモードを有効にする（コメントアウトするとブラウザが実際に立ち上がる）\n",
    "options.set_headless(True)"
   ]
  },
  {
   "cell_type": "code",
   "execution_count": 2,
   "metadata": {
    "pycharm": {}
   },
   "outputs": [
    {
     "data": {
      "text/html": [
       "<div>\n",
       "<style scoped>\n",
       "    .dataframe tbody tr th:only-of-type {\n",
       "        vertical-align: middle;\n",
       "    }\n",
       "\n",
       "    .dataframe tbody tr th {\n",
       "        vertical-align: top;\n",
       "    }\n",
       "\n",
       "    .dataframe thead th {\n",
       "        text-align: right;\n",
       "    }\n",
       "</style>\n",
       "<table border=\"1\" class=\"dataframe\">\n",
       "  <thead>\n",
       "    <tr style=\"text-align: right;\">\n",
       "      <th></th>\n",
       "      <th>日付</th>\n",
       "      <th>時間</th>\n",
       "      <th>始値</th>\n",
       "      <th>高値</th>\n",
       "      <th>安値</th>\n",
       "      <th>終値</th>\n",
       "      <th>出来高</th>\n",
       "    </tr>\n",
       "  </thead>\n",
       "  <tbody>\n",
       "    <tr>\n",
       "      <td>0</td>\n",
       "      <td>2019/1/4</td>\n",
       "      <td>16:30</td>\n",
       "      <td>19820</td>\n",
       "      <td>19820</td>\n",
       "      <td>19790</td>\n",
       "      <td>19800</td>\n",
       "      <td>166</td>\n",
       "    </tr>\n",
       "    <tr>\n",
       "      <td>1</td>\n",
       "      <td>2019/1/4</td>\n",
       "      <td>16:31</td>\n",
       "      <td>19790</td>\n",
       "      <td>19800</td>\n",
       "      <td>19780</td>\n",
       "      <td>19790</td>\n",
       "      <td>176</td>\n",
       "    </tr>\n",
       "    <tr>\n",
       "      <td>2</td>\n",
       "      <td>2019/1/4</td>\n",
       "      <td>16:32</td>\n",
       "      <td>19790</td>\n",
       "      <td>19810</td>\n",
       "      <td>19781</td>\n",
       "      <td>19800</td>\n",
       "      <td>181</td>\n",
       "    </tr>\n",
       "    <tr>\n",
       "      <td>3</td>\n",
       "      <td>2019/1/4</td>\n",
       "      <td>16:33</td>\n",
       "      <td>19790</td>\n",
       "      <td>19810</td>\n",
       "      <td>19790</td>\n",
       "      <td>19800</td>\n",
       "      <td>84</td>\n",
       "    </tr>\n",
       "    <tr>\n",
       "      <td>4</td>\n",
       "      <td>2019/1/4</td>\n",
       "      <td>16:34</td>\n",
       "      <td>19810</td>\n",
       "      <td>19820</td>\n",
       "      <td>19810</td>\n",
       "      <td>19810</td>\n",
       "      <td>26</td>\n",
       "    </tr>\n",
       "  </tbody>\n",
       "</table>\n",
       "</div>"
      ],
      "text/plain": [
       "         日付     時間     始値     高値     安値     終値  出来高\n",
       "0  2019/1/4  16:30  19820  19820  19790  19800  166\n",
       "1  2019/1/4  16:31  19790  19800  19780  19790  176\n",
       "2  2019/1/4  16:32  19790  19810  19781  19800  181\n",
       "3  2019/1/4  16:33  19790  19810  19790  19800   84\n",
       "4  2019/1/4  16:34  19810  19820  19810  19810   26"
      ]
     },
     "execution_count": 2,
     "metadata": {},
     "output_type": "execute_result"
    }
   ],
   "source": [
    "data = pd.read_csv('input/N225f_2019.csv')\n",
    "data.head()"
   ]
  },
  {
   "cell_type": "code",
   "execution_count": 3,
   "metadata": {
    "pycharm": {}
   },
   "outputs": [],
   "source": [
    "# scrape stock prices\n",
    "# URL = \"http://www.nikkei.com/markets/kabu/\"\n",
    "URL = \"https://jp.investing.com/indices/japan-225-futures\"\n",
    "def get_stock_price1(url):\n",
    "\n",
    "    html = requests.get(url)\n",
    "    soup = BeautifulSoup(html.text, \"html.parser\")\n",
    "    span = soup.find(class_=\"mkc-stock_prices\")\n",
    "    \n",
    "    return span.string.strip(',')\n",
    "\n",
    "def get_stock_price2(url):\n",
    "    # ブラウザを起動する\n",
    "    driver = webdriver.Chrome(chrome_options=options)\n",
    "\n",
    "    # ブラウザでアクセスする\n",
    "    driver.get(url)\n",
    "\n",
    "    # HTMLを文字コードをUTF-8に変換してから取得。\n",
    "    \n",
    "    html = driver.page_source.encode('utf-8')\n",
    "    # BeautifulSoupで扱えるようにパース。\n",
    "    soup = BeautifulSoup(html, \"html.parser\")\n",
    "\n",
    "    return soup.select_one(\"#last_last\").text.strip(',')"
   ]
  },
  {
   "cell_type": "code",
   "execution_count": null,
   "metadata": {
    "pycharm": {}
   },
   "outputs": [],
   "source": [
    "# 特徴量生成\n"
   ]
  },
  {
   "cell_type": "code",
   "execution_count": 16,
   "metadata": {
    "pycharm": {},
    "scrolled": true
   },
   "outputs": [
    {
     "name": "stderr",
     "output_type": "stream",
     "text": [
      "/Users/shion/.local/share/virtualenvs/stock_project-KOCIdcQu/lib/python3.6/site-packages/ipykernel_launcher.py:14: DeprecationWarning: use options instead of chrome_options\n",
      "  \n",
      "/Users/shion/.local/share/virtualenvs/stock_project-KOCIdcQu/lib/python3.6/site-packages/ipykernel_launcher.py:14: DeprecationWarning: use options instead of chrome_options\n",
      "  \n"
     ]
    },
    {
     "name": "stdout",
     "output_type": "stream",
     "text": [
      "21482.5 2019-10-08 18:59:08.119581\n"
     ]
    },
    {
     "name": "stderr",
     "output_type": "stream",
     "text": [
      "/Users/shion/.local/share/virtualenvs/stock_project-KOCIdcQu/lib/python3.6/site-packages/ipykernel_launcher.py:14: DeprecationWarning: use options instead of chrome_options\n",
      "  \n",
      "/Users/shion/.local/share/virtualenvs/stock_project-KOCIdcQu/lib/python3.6/site-packages/ipykernel_launcher.py:14: DeprecationWarning: use options instead of chrome_options\n",
      "  \n"
     ]
    },
    {
     "name": "stdout",
     "output_type": "stream",
     "text": [
      "21477.5 2019-10-08 18:59:43.240859\n"
     ]
    },
    {
     "ename": "KeyboardInterrupt",
     "evalue": "",
     "output_type": "error",
     "traceback": [
      "\u001b[0;31m---------------------------------------------------------------------------\u001b[0m",
      "\u001b[0;31mKeyboardInterrupt\u001b[0m                         Traceback (most recent call last)",
      "\u001b[0;32m<ipython-input-16-5167709dd947>\u001b[0m in \u001b[0;36m<module>\u001b[0;34m\u001b[0m\n\u001b[1;32m     27\u001b[0m \u001b[0;34m\u001b[0m\u001b[0m\n\u001b[1;32m     28\u001b[0m             \u001b[0;31m# sleep\u001b[0m\u001b[0;34m\u001b[0m\u001b[0;34m\u001b[0m\u001b[0m\n\u001b[0;32m---> 29\u001b[0;31m             \u001b[0msleep\u001b[0m\u001b[0;34m(\u001b[0m\u001b[0;36m5\u001b[0m\u001b[0;34m)\u001b[0m\u001b[0;34m\u001b[0m\u001b[0m\n\u001b[0m\u001b[1;32m     30\u001b[0m         \u001b[0;32melse\u001b[0m\u001b[0;34m:\u001b[0m\u001b[0;34m\u001b[0m\u001b[0m\n\u001b[1;32m     31\u001b[0m             \u001b[0;32mwith\u001b[0m \u001b[0mopen\u001b[0m\u001b[0;34m(\u001b[0m\u001b[0;34m'input/N225f_2019.csv'\u001b[0m\u001b[0;34m,\u001b[0m \u001b[0;34m'a'\u001b[0m\u001b[0;34m)\u001b[0m \u001b[0;32mas\u001b[0m \u001b[0mf\u001b[0m\u001b[0;34m:\u001b[0m\u001b[0;34m\u001b[0m\u001b[0m\n",
      "\u001b[0;31mKeyboardInterrupt\u001b[0m: "
     ]
    }
   ],
   "source": [
    "# {'日付': 0, '時間': 1, '始値': 2, '高値': 3, '安値': 4, '終値': 5, '出来高':6}\n",
    "while (1):\n",
    "    dt_now = datetime.datetime.now()\n",
    "    list_data = []\n",
    "    st_price = get_stock_price2(URL)\n",
    "    \n",
    "    list_data[0:2] = [dt_now.strftime('%Y/%m/%d'), dt_now.strftime('%H:%M')]\n",
    "    list_data[2:-1] = [st_price.replace(',', '') for i in range(4)]\n",
    "    list_data.append(0.0)\n",
    "\n",
    "    while(1):\n",
    "        if dt_now.minute == datetime.datetime.now().minute:\n",
    "            \n",
    "            st_price_new =  get_stock_price2(URL).replace(',', '')\n",
    "\n",
    "            # 高値の更新\n",
    "            if list_data[3] < st_price_new:\n",
    "                list_data[3] = st_price_new\n",
    "\n",
    "            # 安値の更新\n",
    "            if list_data[4] > st_price_new:\n",
    "                list_data[4] = st_price_new\n",
    "\n",
    "            # 終値の更新\n",
    "            list_data[5] = st_price_new\n",
    "            \n",
    "            # sleep\n",
    "            sleep(5)\n",
    "        else:\n",
    "            with open('input/N225f_2019.csv', 'a') as f:\n",
    "                writer = csv.writer(f)\n",
    "                writer.writerow(list_data)\n",
    "            break"
   ]
  },
  {
   "cell_type": "code",
   "execution_count": 17,
   "metadata": {
    "pycharm": {}
   },
   "outputs": [
    {
     "data": {
      "text/html": [
       "<div>\n",
       "<style scoped>\n",
       "    .dataframe tbody tr th:only-of-type {\n",
       "        vertical-align: middle;\n",
       "    }\n",
       "\n",
       "    .dataframe tbody tr th {\n",
       "        vertical-align: top;\n",
       "    }\n",
       "\n",
       "    .dataframe thead th {\n",
       "        text-align: right;\n",
       "    }\n",
       "</style>\n",
       "<table border=\"1\" class=\"dataframe\">\n",
       "  <thead>\n",
       "    <tr style=\"text-align: right;\">\n",
       "      <th></th>\n",
       "      <th>日付</th>\n",
       "      <th>時間</th>\n",
       "      <th>始値</th>\n",
       "      <th>高値</th>\n",
       "      <th>安値</th>\n",
       "      <th>終値</th>\n",
       "      <th>出来高</th>\n",
       "    </tr>\n",
       "  </thead>\n",
       "  <tbody>\n",
       "    <tr>\n",
       "      <td>184000</td>\n",
       "      <td>2019/8/27</td>\n",
       "      <td>15:12</td>\n",
       "      <td>20430.0</td>\n",
       "      <td>20430.0</td>\n",
       "      <td>20430.0</td>\n",
       "      <td>20430.0</td>\n",
       "      <td>0.0</td>\n",
       "    </tr>\n",
       "    <tr>\n",
       "      <td>184001</td>\n",
       "      <td>2019/8/27</td>\n",
       "      <td>15:13</td>\n",
       "      <td>20430.0</td>\n",
       "      <td>20430.0</td>\n",
       "      <td>20430.0</td>\n",
       "      <td>20430.0</td>\n",
       "      <td>0.0</td>\n",
       "    </tr>\n",
       "    <tr>\n",
       "      <td>184002</td>\n",
       "      <td>2019/8/27</td>\n",
       "      <td>15:14</td>\n",
       "      <td>20430.0</td>\n",
       "      <td>20430.0</td>\n",
       "      <td>20430.0</td>\n",
       "      <td>20430.0</td>\n",
       "      <td>0.0</td>\n",
       "    </tr>\n",
       "    <tr>\n",
       "      <td>184003</td>\n",
       "      <td>2019/8/27</td>\n",
       "      <td>15:15</td>\n",
       "      <td>20420.0</td>\n",
       "      <td>20420.0</td>\n",
       "      <td>20420.0</td>\n",
       "      <td>20420.0</td>\n",
       "      <td>24842.0</td>\n",
       "    </tr>\n",
       "    <tr>\n",
       "      <td>184004</td>\n",
       "      <td>2019/10/08</td>\n",
       "      <td>18:58</td>\n",
       "      <td>21482.5</td>\n",
       "      <td>21482.5</td>\n",
       "      <td>21482.5</td>\n",
       "      <td>21482.5</td>\n",
       "      <td>0.0</td>\n",
       "    </tr>\n",
       "  </tbody>\n",
       "</table>\n",
       "</div>"
      ],
      "text/plain": [
       "                日付     時間       始値       高値       安値       終値      出来高\n",
       "184000   2019/8/27  15:12  20430.0  20430.0  20430.0  20430.0      0.0\n",
       "184001   2019/8/27  15:13  20430.0  20430.0  20430.0  20430.0      0.0\n",
       "184002   2019/8/27  15:14  20430.0  20430.0  20430.0  20430.0      0.0\n",
       "184003   2019/8/27  15:15  20420.0  20420.0  20420.0  20420.0  24842.0\n",
       "184004  2019/10/08  18:58  21482.5  21482.5  21482.5  21482.5      0.0"
      ]
     },
     "execution_count": 17,
     "metadata": {},
     "output_type": "execute_result"
    }
   ],
   "source": [
    "data = pd.read_csv('input/N225f_2019.csv')\n",
    "data.tail()"
   ]
  },
  {
   "cell_type": "code",
   "execution_count": null,
   "metadata": {
    "pycharm": {}
   },
   "outputs": [],
   "source": []
  }
 ],
 "metadata": {
  "kernelspec": {
   "display_name": "Python 3",
   "language": "python",
   "name": "python3"
  },
  "language_info": {
   "codemirror_mode": {
    "name": "ipython",
    "version": 3
   },
   "file_extension": ".py",
   "mimetype": "text/x-python",
   "name": "python",
   "nbconvert_exporter": "python",
   "pygments_lexer": "ipython3",
   "version": "3.6.4"
  },
  "stem_cell": {
   "cell_type": "raw",
   "metadata": {
    "pycharm": {
     "metadata": false
    }
   },
   "source": ""
  }
 },
 "nbformat": 4,
 "nbformat_minor": 2
}
